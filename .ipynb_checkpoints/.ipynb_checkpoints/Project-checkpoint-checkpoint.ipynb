{
 "cells": [
  {
   "cell_type": "code",
   "execution_count": 1,
   "metadata": {},
   "outputs": [
    {
     "name": "stdout",
     "output_type": "stream",
     "text": [
      "Enter the address of your location!(Ex:401 Van Buren Street, Syracuse, NY)351 Slocum Drive, Syracuse, NY\n"
     ]
    }
   ],
   "source": [
    "import googlemaps   #import package and API\n",
    "import pandas as pd\n",
    "import warnings\n",
    "import requests\n",
    "import json\n",
    "warnings.filterwarnings('ignore')\n",
    "try:\n",
    "    google_key = ''  #store the google map API KEY\n",
    "    address = input('Enter the address of your location!(Ex:401 Van Buren Street, Syracuse, NY)')  #input the address of your location\n",
    "    url = 'https://maps.googleapis.com/maps/api/geocode/json?address='+address+'&key='+google_key   \n",
    "    response = requests.get(url)  #get the response from the website\n",
    "    x=response.json()           #decode into json \n",
    "    lat = x['results'][0]['geometry']['location']['lat']     #transfer your address into coordinates\n",
    "    lon = x['results'][0]['geometry']['location']['lng']\n",
    "\n",
    "\n",
    "    gmaps = googlemaps.Client(key=google_key)     #connect to the website   I learned this from Internet. Retrived  from:https://xdasu.com/2018/04/30/python-使用google-map-api3-地點詳細資料/\n",
    "    nearby_results = gmaps.places_nearby(location=(lat,lon),radius = 1000,type='restaurant')  #search the restaurants around your location by google map API\n",
    "    nearby_results = nearby_results['results']    #the result dictionary is useful, so we need to extract it out\n",
    "except json.decoder.JSONDecodeError as e:                   #response is note json type\n",
    "    print(\"ERROR: Cannot decode the response into json\")\n",
    "    print(\"DETAILS\", e)\n",
    "\n",
    "\n",
    "except requests.exceptions.HTTPError as e:                  #response is not ok\n",
    "    print(\"ERROR: Response from \", url, 'was not ok.')\n",
    "    print(\"DETAILS:\", e)\n",
    "        \n",
    "\n",
    "except requests.exceptions.RequestException as e:           #Don't have internet.\n",
    "    print(\"ERROR: Cannot connect to \", url)\n",
    "    print(\"DETAILS:\", e)\n",
    "    "
   ]
  },
  {
   "cell_type": "code",
   "execution_count": 2,
   "metadata": {},
   "outputs": [
    {
     "data": {
      "text/html": [
       "<div>\n",
       "<style scoped>\n",
       "    .dataframe tbody tr th:only-of-type {\n",
       "        vertical-align: middle;\n",
       "    }\n",
       "\n",
       "    .dataframe tbody tr th {\n",
       "        vertical-align: top;\n",
       "    }\n",
       "\n",
       "    .dataframe thead th {\n",
       "        text-align: right;\n",
       "    }\n",
       "</style>\n",
       "<table border=\"1\" class=\"dataframe\">\n",
       "  <thead>\n",
       "    <tr style=\"text-align: right;\">\n",
       "      <th></th>\n",
       "      <th>Restaurant</th>\n",
       "      <th>Address</th>\n",
       "      <th>Phone Number</th>\n",
       "    </tr>\n",
       "  </thead>\n",
       "  <tbody>\n",
       "    <tr>\n",
       "      <th>0</th>\n",
       "      <td>Drumlins</td>\n",
       "      <td>800Nottingham RoadOnondaga CountyUS</td>\n",
       "      <td>(315) 446-4555</td>\n",
       "    </tr>\n",
       "    <tr>\n",
       "      <th>1</th>\n",
       "      <td>Pascale Italian Bistro</td>\n",
       "      <td>800Nottingham RoadDe WittNY</td>\n",
       "      <td>(315) 446-8511</td>\n",
       "    </tr>\n",
       "    <tr>\n",
       "      <th>2</th>\n",
       "      <td>Sbarro</td>\n",
       "      <td>401Skytop RoadSyracuseNY</td>\n",
       "      <td>(315) 443-1514</td>\n",
       "    </tr>\n",
       "    <tr>\n",
       "      <th>3</th>\n",
       "      <td>Original Italian Pizza</td>\n",
       "      <td>120Julian PlaceSyracuseNY</td>\n",
       "      <td>(315) 446-8728</td>\n",
       "    </tr>\n",
       "    <tr>\n",
       "      <th>4</th>\n",
       "      <td>Pascale</td>\n",
       "      <td>800Nottingham RoadDe WittNY</td>\n",
       "      <td>(315) 446-8511</td>\n",
       "    </tr>\n",
       "    <tr>\n",
       "      <th>5</th>\n",
       "      <td>Burger King</td>\n",
       "      <td>401Skytop RoadSyracuseNY</td>\n",
       "      <td>(315) 443-1514</td>\n",
       "    </tr>\n",
       "  </tbody>\n",
       "</table>\n",
       "</div>"
      ],
      "text/plain": [
       "               Restaurant                              Address    Phone Number\n",
       "0                Drumlins  800Nottingham RoadOnondaga CountyUS  (315) 446-4555\n",
       "1  Pascale Italian Bistro          800Nottingham RoadDe WittNY  (315) 446-8511\n",
       "2                  Sbarro             401Skytop RoadSyracuseNY  (315) 443-1514\n",
       "3  Original Italian Pizza            120Julian PlaceSyracuseNY  (315) 446-8728\n",
       "4                 Pascale          800Nottingham RoadDe WittNY  (315) 446-8511\n",
       "5             Burger King             401Skytop RoadSyracuseNY  (315) 443-1514"
      ]
     },
     "execution_count": 2,
     "metadata": {},
     "output_type": "execute_result"
    }
   ],
   "source": [
    "restaurant = []  #Build the empty list\n",
    "Address = []\n",
    "Phone_number = []\n",
    "for nearby_result in nearby_results:\n",
    "    ID=nearby_result['place_id']            #get the place ID of the restaurants\n",
    "    name=gmaps.place(ID,language='zh-tw')   #transfer the data into readable type  Learned this from Internet  Retrived from:https://xdasu.com/2018/04/30/python-使用google-map-api3-地點詳細資料/\n",
    "    restaurant.append(name['result']['name'])  #add the value into the empty list\n",
    "    address = name['result']['address_components'][0]['long_name']+name['result']['address_components'][1]['long_name']+name['result']['address_components'][3]['long_name']+name['result']['address_components'][5]['short_name']\n",
    "    Address.append(address)\n",
    "    phone_number = name['result']['formatted_phone_number']\n",
    "    Phone_number.append(phone_number)\n",
    "\n",
    "information = pd.DataFrame({'Restaurant':restaurant,'Address':Address,'Phone Number':Phone_number})    #display the data in Panda DataFrame\n",
    "information\n"
   ]
  },
  {
   "cell_type": "code",
   "execution_count": null,
   "metadata": {},
   "outputs": [],
   "source": []
  }
 ],
 "metadata": {
  "kernelspec": {
   "display_name": "Python 3",
   "language": "python",
   "name": "python3"
  },
  "language_info": {
   "codemirror_mode": {
    "name": "ipython",
    "version": 3
   },
   "file_extension": ".py",
   "mimetype": "text/x-python",
   "name": "python",
   "nbconvert_exporter": "python",
   "pygments_lexer": "ipython3",
   "version": "3.6.6"
  }
 },
 "nbformat": 4,
 "nbformat_minor": 2
}
