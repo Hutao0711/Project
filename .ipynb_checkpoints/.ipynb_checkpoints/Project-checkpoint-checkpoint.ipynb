{
 "cells": [
  {
   "cell_type": "code",
   "execution_count": null,
   "metadata": {},
   "outputs": [],
   "source": [
    "import googlemaps\n",
    "import pandas as pd\n",
    "import warnings\n",
    "import requests\n",
    "import json\n",
    "warnings.filterwarnings('ignore')\n",
    "\n",
    "google_key = ''\n",
    "address = input('Enter the address of your location!(Ex:401 Van Buren Street, Syracuse, NY)')\n",
    "url = 'https://maps.googleapis.com/maps/api/geocode/json?address='+address+'&key='+google_key\n",
    "response = requests.get(url)\n",
    "x=response.json()\n",
    "lat = x['results'][0]['geometry']['location']['lat']\n",
    "lon = x['results'][0]['geometry']['location']['lng']\n",
    "\n",
    "\n",
    "gmaps = googlemaps.Client(key=google_key)\n",
    "nearby_results = gmaps.places_nearby(location=(lat,lon),radius = 4000,type='restaurant')\n",
    "nearby_results = nearby_results['results']\n",
    "restaurant = []\n",
    "Address = []\n",
    "Phone_number = []\n",
    "for nearby_result in nearby_results:\n",
    "    ID=nearby_result['place_id']\n",
    "    name=gmaps.place(ID,language='zh-tw')\n",
    "    restaurant.append(name['result']['name'])\n",
    "    address = name['result']['address_components'][0]['long_name']+name['result']['address_components'][1]['long_name']+name['result']['address_components'][3]['long_name']+name['result']['address_components'][5]['short_name']\n",
    "    Address.append(address)\n",
    "    phone_number = name['result']['formatted_phone_number']\n",
    "    Phone_number.append(phone_number)\n",
    "\n",
    "information = pd.DataFrame({'Restaurant':restaurant,'Address':Address,'Phone Number':Phone_number})\n",
    "information\n",
    "    \n",
    "    "
   ]
  },
  {
   "cell_type": "code",
   "execution_count": null,
   "metadata": {},
   "outputs": [],
   "source": []
  }
 ],
 "metadata": {
  "kernelspec": {
   "display_name": "Python 3",
   "language": "python",
   "name": "python3"
  },
  "language_info": {
   "codemirror_mode": {
    "name": "ipython",
    "version": 3
   },
   "file_extension": ".py",
   "mimetype": "text/x-python",
   "name": "python",
   "nbconvert_exporter": "python",
   "pygments_lexer": "ipython3",
   "version": "3.6.6"
  }
 },
 "nbformat": 4,
 "nbformat_minor": 2
}
